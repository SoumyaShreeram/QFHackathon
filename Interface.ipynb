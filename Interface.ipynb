{
  "cells": [
    {
      "cell_type": "code",
      "source": [
        "import pygame\n",
        "import datetime\n",
        "import time\n",
        "from tkinter import *\n",
        "import os\n",
        "from PIL import Image, ImageTk"
      ],
      "outputs": [],
      "execution_count": 198,
      "metadata": {
        "collapsed": false,
        "outputHidden": false,
        "inputHidden": false
      }
    },
    {
      "cell_type": "code",
      "source": [
        "def frameProperties(root, frameTrue):\n",
        "    if frameTrue:\n",
        "        frame = Frame(root, bg=\"#f0c2e0\", bd=15, relief=RIDGE)\n",
        "        frame.grid()\n",
        "    else:\n",
        "        frame = Frame(root, bg=\"#f0c2e0\", relief=RIDGE)\n",
        "        frame.grid()\n",
        "    return frame\n",
        "\n",
        "def labelTitle(input_frame, input_text, color_bg, fontsize):\n",
        "    Label(input_frame, text=input_text, font=('arial', fontsize, 'bold'), padx=8, pady=8, bd=34, bg=color_bg, fg=\"white\", justify=CENTER).grid(row=0, column=0, columnspan=11)\n",
        "    return\n",
        "\n",
        "def textEntries(input_frame, input_text, color_bg, fontsize, i, j, h):\n",
        "    Entry(input_frame, textvariable=input_text, font=('arial', fontsize, 'bold'), bd=34, bg=color_bg, fg=\"white\", width=h, justify=CENTER).grid(row=i, column=j, columnspan=11)\n",
        "    return\n",
        "\n",
        "def textButtons(input_frame, input_text, color_bg, fontsize, i, j, k, l, font_color, ValueKey, commandName):\n",
        "    if ValueKey:\n",
        "        butts=Button(input_frame,  height= j, width=i, text=input_text, font=('arial', fontsize, 'bold'), bd=4, bg=color_bg, fg=font_color, command=commandName)\n",
        "        textEntries(input_frame, 'X', \"black\", fontsize, k, l+4, 16)\n",
        "        butts.grid(row=k, column=l, padx=5, pady=5)\n",
        "    else:\n",
        "        butts=Button(input_frame,  height= j, width=i, text=input_text, font=('arial', fontsize, 'bold'), bd=4, bg=color_bg, fg=font_color)\n",
        "        butts.grid(row=k, column=l, padx=5, pady=5)\n",
        "    return butts\n",
        "\n",
        "def ValC(input_frame, i, j):\n",
        "    #main_canvas.create_rectangle(0, 100, 200, 80, outline=\"#fb0\", fill=\"red\", width=2)\n",
        "\n",
        "    textEntries(input_frame, \" X \", \"white\", 18, i, j, 16)\n",
        "    return \n",
        "\n",
        "def ValK():\n",
        "    return"
      ],
      "outputs": [],
      "execution_count": 201,
      "metadata": {
        "collapsed": false,
        "outputHidden": false,
        "inputHidden": false
      }
    },
    {
      "cell_type": "code",
      "source": [
        "pygame.init()\n",
        "root = Tk()\n",
        "root.title(\"Quantum Music\")\n",
        "root.geometry('1352x7000+0+0') # open from the upper-left\n",
        "root.configure(background='white') # background configuration\n",
        "\n",
        "# main frame\n",
        "main_frame = frameProperties(root, True)\n",
        "# frame inside main frame\n",
        "title_frame = frameProperties(main_frame, True)\n",
        "body_frame = frameProperties(main_frame, False)\n",
        "# canvas is required too :\\\n",
        "main_canvas = Canvas(root, width=200, height=200, bg='magenta')\n",
        "\n",
        "str1 = StringVar()\n",
        "str2 = StringVar()\n",
        "str3 = StringVar()\n",
        "str1.set(\"Fun with music!\")\n",
        "Date1 = StringVar()\n",
        "Time1 = StringVar()\n",
        "Date1.set(time.strftime(\"%d/%m/%Y\"))\n",
        "Time1.set(time.strftime(\"%H:%M:%S\"))\n",
        "\n",
        "labelTitle(title_frame, \"Quantum Musical Piano\", \"#1a0033\", 25)\n",
        "#textEntries(title_frame, str1, \"#1a0033\", 18, 1, 2)\n",
        "\n",
        "# Buttons\n",
        "keys_sharp = [\"C#\", \"D#\"]\n",
        "keys = [\"C\", \"D\", \"E\"]\n",
        "\n",
        "#ValueC_ = ValueC(body_frame)\n",
        "btnC = textButtons(body_frame, \"C\", \"white\", 18, 9, 2, 0, 0, \"black\", True, ValC(body_frame, 0, 10))\n",
        "btnCs = textButtons(body_frame, \"C#\", \"black\", 18, 7, 1, 2, 0, \"white\", True,  ValK)\n",
        "bbtnD = textButtons(body_frame, \"D\", \"white\", 18, 9, 2, 4, 0, \"black\", True, ValK)\n",
        "btnDs = textButtons(body_frame, \"D#\", \"black\", 18, 7, 1, 6, 0, \"white\", True, ValK)\n",
        "btnE = textButtons(body_frame, \"E\", \"white\", 18, 9, 2, 8, 0, \"black\", True, ValK)\n",
        "\n",
        "# gates\n",
        "textButtons(body_frame, \"H\", \"#ffff99\", 18, 5, 2, 10, 3, \"black\", False, ValK)\n",
        "textButtons(body_frame, \"X\", \"#b3ffe6\", 18, 5, 2, 10, 6, \"black\", False, ValK)\n",
        "\n",
        "#main\n",
        "#a= main_canvas.create_rectangle(300, 300, 200, 80, outline=\"#fb0\", fill=\"red\", width=2)\n",
        "#main_canvas.move(a, 100, 100)\n",
        "root.mainloop()"
      ],
      "outputs": [],
      "execution_count": 204,
      "metadata": {
        "collapsed": false,
        "outputHidden": false,
        "inputHidden": false
      }
    },
    {
      "cell_type": "code",
      "source": [],
      "outputs": [],
      "execution_count": 165,
      "metadata": {
        "collapsed": false,
        "outputHidden": false,
        "inputHidden": false
      }
    },
    {
      "cell_type": "code",
      "source": [],
      "outputs": [],
      "execution_count": null,
      "metadata": {
        "collapsed": false,
        "outputHidden": false,
        "inputHidden": false
      }
    }
  ],
  "metadata": {
    "kernel_info": {
      "name": "python3"
    },
    "language_info": {
      "name": "python",
      "version": "3.7.0",
      "mimetype": "text/x-python",
      "codemirror_mode": {
        "name": "ipython",
        "version": 3
      },
      "pygments_lexer": "ipython3",
      "nbconvert_exporter": "python",
      "file_extension": ".py"
    },
    "kernelspec": {
      "name": "python3",
      "language": "python",
      "display_name": "Python 3"
    },
    "nteract": {
      "version": "0.12.3"
    }
  },
  "nbformat": 4,
  "nbformat_minor": 4
}