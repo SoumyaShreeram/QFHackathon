{
  "cells": [
    {
      "cell_type": "code",
      "source": [
        "import pygame\n",
        "import datetime\n",
        "import time\n",
        "from tkinter import *"
      ],
      "outputs": [],
      "execution_count": 139,
      "metadata": {
        "collapsed": false,
        "outputHidden": false,
        "inputHidden": false
      }
    },
    {
      "cell_type": "code",
      "source": [
        "def frameProperties(root, frameTrue):\n",
        "    if frameTrue:\n",
        "        frame = Frame(root, bg=\"#f0c2e0\", bd=15, relief=RIDGE)\n",
        "        frame.grid()\n",
        "    else:\n",
        "        frame = Frame(root, bg=\"#f0c2e0\", relief=RIDGE)\n",
        "        frame.grid()\n",
        "    return frame\n",
        "\n",
        "def labelTitle(input_frame, input_text, color_bg, fontsize):\n",
        "    Label(input_frame, text=input_text, font=('arial', fontsize, 'bold'), padx=8, pady=8, bd=34, bg=color_bg, fg=\"white\", justify=CENTER).grid(row=0, column=0, columnspan=11)\n",
        "    return\n",
        "\n",
        "def textEntries(input_frame, input_text, color_bg, fontsize, i, j):\n",
        "    Entry(input_frame, textvariable=input_text, font=('arial', fontsize, 'bold'), bd=34, bg=color_bg, fg=\"white\", width=20, justify=CENTER).grid(row=i, column=j, columnspan=11)\n",
        "    return\n",
        "\n",
        "def textButtons(input_frame, input_text, color_bg, fontsize, i, j, k, l, font_color, command_name):\n",
        "    butts=Button(input_frame,  height= j, width=i, text=input_text, font=('arial', fontsize, 'bold'), command=command_name, bd=4, bg=color_bg, fg=font_color)\n",
        "    butts.grid(row=k, column=l, padx=5, pady=5)\n",
        "    return butts\n",
        "\n",
        "def ValueC():\n",
        "    # add here\n",
        "    return \n",
        "\n",
        "def ValueCs():\n",
        "    # add here\n",
        "    return"
      ],
      "outputs": [],
      "execution_count": 150,
      "metadata": {
        "collapsed": false,
        "outputHidden": false,
        "inputHidden": false
      }
    },
    {
      "cell_type": "code",
      "source": [
        "pygame.init()\n",
        "root = Tk()\n",
        "root.title(\"Quantum Music\")\n",
        "root.geometry('1352x7000+0+0') # open from the upper-left\n",
        "root.configure(background='white') # background configuration\n",
        "\n",
        "# main frame\n",
        "main_frame = frameProperties(root, True)\n",
        "# frame inside main frame\n",
        "title_frame = frameProperties(main_frame, True)\n",
        "body_frame = frameProperties(main_frame, False)\n",
        "\n",
        "str1 = StringVar()\n",
        "str1.set(\"Some text\")\n",
        "Date1 = StringVar()\n",
        "Time1 = StringVar()\n",
        "Date1.set(time.strftime(\"%d/%m/%Y\"))\n",
        "Time1.set(time.strftime(\"%H:%M:%S\"))\n",
        "\n",
        "labelTitle(title_frame, \"Quantum Musical Piano\", \"#1a0033\", 25)\n",
        "textEntries(title_frame, str1, \"#1a0033\", 18, 1, 2)\n",
        "\n",
        "# Buttons\n",
        "keys_sharp = [\"C#\", \"D#\"]\n",
        "keys = [\"C\", \"D\", \"E\"]\n",
        "\n",
        "btnC = textButtons(body_frame, \"C\", \"white\", 18, 9, 2, 0, 0, \"black\", ValueC)\n",
        "btnCs = textButtons(body_frame, \"C#\", \"black\", 18, 7, 1, 2, 0, \"white\", ValueKey)\n",
        "bbtnD = textButtons(body_frame, \"D\", \"white\", 18, 9, 2, 4, 0, \"black\", ValueKey)\n",
        "btnDs = textButtons(body_frame, \"D#\", \"black\", 18, 7, 1, 6, 0, \"white\", ValueKey)\n",
        "btnE = textButtons(body_frame, \"E\", \"white\", 18, 9, 2, 8, 0, \"black\", ValueKey)\n",
        "\nroot.mainloop()"
      ],
      "outputs": [],
      "execution_count": 152,
      "metadata": {
        "collapsed": false,
        "outputHidden": false,
        "inputHidden": false
      }
    },
    {
      "cell_type": "code",
      "source": [
        "body_frame.btn1.str1.set()"
      ],
      "outputs": [],
      "execution_count": null,
      "metadata": {
        "collapsed": false,
        "outputHidden": false,
        "inputHidden": false
      }
    }
  ],
  "metadata": {
    "kernel_info": {
      "name": "python3"
    },
    "language_info": {
      "name": "python",
      "version": "3.7.0",
      "mimetype": "text/x-python",
      "codemirror_mode": {
        "name": "ipython",
        "version": 3
      },
      "pygments_lexer": "ipython3",
      "nbconvert_exporter": "python",
      "file_extension": ".py"
    },
    "kernelspec": {
      "name": "python3",
      "language": "python",
      "display_name": "Python 3"
    },
    "nteract": {
      "version": "0.12.3"
    }
  },
  "nbformat": 4,
  "nbformat_minor": 4
}